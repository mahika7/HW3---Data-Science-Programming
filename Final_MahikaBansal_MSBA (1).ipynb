{
 "cells": [
  {
   "cell_type": "code",
   "execution_count": 1,
   "metadata": {},
   "outputs": [
    {
     "name": "stdout",
     "output_type": "stream",
     "text": [
      "Populating the interactive namespace from numpy and matplotlib\n"
     ]
    }
   ],
   "source": [
    "import pandas as pd\n",
    "from pandas import Series, DataFrame\n",
    "%pylab inline"
   ]
  },
  {
   "cell_type": "markdown",
   "metadata": {},
   "source": [
    "### Q1 [12 points] Classification\n",
    "\n",
    "Consider the following 2 datasets, each of which has equal numbers of red and blue points.\n",
    "\n",
    "![both](both.png)"
   ]
  },
  {
   "cell_type": "markdown",
   "metadata": {},
   "source": [
    "### Q1(a) [4 points] Suppose you can build a decision tree to classify the red points from the blue points. \n",
    "You can set the depth anywhere between 1 and 10 (recall that depth 1 means you get to split at most once).\n",
    "Which depth gives you the best training accuracy for dataset 1? And for dataset 2?\n",
    "If several choices for depth achieve the highest accuracy, report the smallest depth that achieves that accuracy."
   ]
  },
  {
   "cell_type": "markdown",
   "metadata": {},
   "source": [
    "Depth 4 can give best accuracy for Dataset 1 with 100% accuracy if separated inner circle fully assuming horizontal and vertical axes; for dataset 2, it might separate negligible points at every split as red and blue classes are very close to each other, so to keep things simple maybe depth 1 for dataset 2."
   ]
  },
  {
   "cell_type": "markdown",
   "metadata": {},
   "source": [
    "### Q1(b) [4 points] What is the accuracy achieved by logistic regression on dataset 1? On dataset 2?\n",
    "\n",
    "For dataset 2, you may give an approximate answer assuming that the red and blue circles are very very close to each other."
   ]
  },
  {
   "cell_type": "markdown",
   "metadata": {},
   "source": [
    "Dataset 1 can give accuracy of ~67% but dataset 2 it will be similar to the case in decision trees, accuracy can be ~50% assuming no of points are equal for both classes"
   ]
  },
  {
   "cell_type": "markdown",
   "metadata": {},
   "source": [
    "### Q1(c) [4 points] What accuracy would a K-Nearest Neighbors algorithm achieve on dataset 1? On dataset 2?\n",
    "\n",
    "You may assume a reasonably large value for K, say, K=20. You can also assume that the points are uniformly spread out over the circles, and for dataset 2, the two circles are very very close to each other."
   ]
  },
  {
   "cell_type": "markdown",
   "metadata": {},
   "source": [
    "Dataset1 accuracy might be 50% with Knn as concentric circles if circle1 radius is larger but accuracy can even go to 100% if circle 1 radius is very small; and 50% case with dataset 2 as points too close"
   ]
  },
  {
   "cell_type": "markdown",
   "metadata": {},
   "source": [
    "---\n",
    "\n",
    "We will consider a dataset where each row is one active businesses in the Los Angeles area. We care about the following fields:\n",
    "* BUSINESS NAME, STREET ADDRESS, CITY, ZIP CODE: self-explanatory\n",
    "* MAILING ADDRESS, MAILING CITY, MAILING ZIP CODE: these correspond to locations where letters addressed to the business need to be mailed\n",
    "* LOCATION DESCRIPTION: a column that combines the street name and zip code\n",
    "* NAICS: North American Industry Classification System (essentially the type of business)\n",
    "* PRIMARY NAICS DESCRIPTION: a description of the NAICS code\n",
    "* COUNCIL DISTRICT: another location identifier\n",
    "* LOCATION START DATE: when did the business start using this location.\n",
    "\n",
    "*Note*: You can assume that STREET ADDRESS has no NaNs. However, **there may be NaNs in all other columns, and your code may need to account for that if necessary!**"
   ]
  },
  {
   "cell_type": "markdown",
   "metadata": {},
   "source": [
    "### Q2 [3 points] Read in \"ActiveBusinesses.csv\" and print the first line."
   ]
  },
  {
   "cell_type": "code",
   "execution_count": 175,
   "metadata": {},
   "outputs": [
    {
     "data": {
      "text/plain": [
       "LOCATION ACCOUNT #                                           0002737837-0001-4\n",
       "BUSINESS NAME                                            ERDEM ENTERPRISES LLC\n",
       "DBA NAME                                                                   NaN\n",
       "STREET ADDRESS                               6177 N LINCOLN AVENUE   UNIT #337\n",
       "CITY                                                                   CHICAGO\n",
       "ZIP CODE                                                            60659-2313\n",
       "LOCATION DESCRIPTION                                        6177 LINCOLN 60659\n",
       "MAILING ADDRESS                          5805   WHITE OAK AVENUE   UNIT #16999\n",
       "MAILING CITY                                                            ENCINO\n",
       "MAILING ZIP CODE                                                    91416-5052\n",
       "NAICS                                                                   512100\n",
       "PRIMARY NAICS DESCRIPTION    Motion picture & video industries (except vide...\n",
       "COUNCIL DISTRICT                                                             0\n",
       "LOCATION START DATE                                                 03/13/2014\n",
       "LOCATION END DATE                                                          NaN\n",
       "LOCATION                                                   (41.9939, -87.7129)\n",
       "Name: 0, dtype: object"
      ]
     },
     "execution_count": 175,
     "metadata": {},
     "output_type": "execute_result"
    }
   ],
   "source": [
    "df = pd.read_csv('ActiveBusinesses.csv')\n",
    "df.iloc[0]"
   ]
  },
  {
   "cell_type": "markdown",
   "metadata": {},
   "source": [
    "### Q3 [4 points] Businesses with the same street address.\n",
    "\n",
    "Find the most frequent STREET ADDRESS (i.e., the STREET ADDRESS that shows up in the most rows). List all the BUSINESS NAMEs at that STREET ADDRESS."
   ]
  },
  {
   "cell_type": "code",
   "execution_count": 9,
   "metadata": {},
   "outputs": [
    {
     "data": {
      "text/plain": [
       "3258              HYPERSONIC, INC.\n",
       "4033              TWIN ENGINES LLC\n",
       "7397               COMANDANTE, LLC\n",
       "8901     PHILIP CHRISTOPHER HARVEY\n",
       "10108      DIA DE LOS DEFTONES LLC\n",
       "10278    SMOKIN CAMELS CARAVAN INC\n",
       "13022            BVB TOURING, INC.\n",
       "16371           ELLA MAI MUSIC INC\n",
       "17100                   EMMIT FENN\n",
       "17737                KIDD KASH INC\n",
       "19533                 HOT MILK INC\n",
       "19597                  CC BLUE INC\n",
       "Name: BUSINESS NAME, dtype: object"
      ]
     },
     "execution_count": 9,
     "metadata": {},
     "output_type": "execute_result"
    }
   ],
   "source": [
    "df[df['STREET ADDRESS']==df['STREET ADDRESS'].value_counts().index[0]]['BUSINESS NAME']"
   ]
  },
  {
   "cell_type": "markdown",
   "metadata": {},
   "source": [
    "### Q4 [4 points] Plot the top 10 most frequent BUSINESS NAMEs.\n",
    "The x-axis should be the BUSINESS NAME, and the y-axis should be the number of rows with that BUSINESS NAME."
   ]
  },
  {
   "cell_type": "code",
   "execution_count": 12,
   "metadata": {},
   "outputs": [
    {
     "data": {
      "text/plain": [
       "<matplotlib.axes._subplots.AxesSubplot at 0x198f3f8f408>"
      ]
     },
     "execution_count": 12,
     "metadata": {},
     "output_type": "execute_result"
    },
    {
     "data": {
      "image/png": "[encoded data removed]",
      "text/plain": [
       "<Figure size 432x288 with 1 Axes>"
      ]
     },
     "metadata": {
      "needs_background": "light"
     },
     "output_type": "display_data"
    }
   ],
   "source": [
    "df['BUSINESS NAME'].value_counts()[:10].plot(kind = 'bar')"
   ]
  },
  {
   "cell_type": "markdown",
   "metadata": {},
   "source": [
    "### Q5 [4 points] Top street names\n",
    "\n",
    "Define the street name as the LOCATION DESCRIPTION without the first word (street number) and the last word (the zip code).\n",
    "Print the frequencies of the top 10 street names."
   ]
  },
  {
   "cell_type": "code",
   "execution_count": 40,
   "metadata": {},
   "outputs": [
    {
     "data": {
      "text/plain": [
       "VENTURA     592\n",
       "WILSHIRE    513\n",
       "SAN         252\n",
       "SANTA       174\n",
       "LA          167\n",
       "VAN         165\n",
       "OLYMPIC     157\n",
       "SHERMAN     150\n",
       "SUNSET      148\n",
       "FIGUEROA    148\n",
       "Name: STREET NAME, dtype: int64"
      ]
     },
     "execution_count": 40,
     "metadata": {},
     "output_type": "execute_result"
    }
   ],
   "source": [
    "import re\n",
    "\n",
    "##finding appropriate street name due to missing values or subparts\n",
    "def street_name(loc):\n",
    "    loc = str(loc)\n",
    "    if len(loc.split()) == 2:\n",
    "        return loc.split()[0]\n",
    "    elif len(loc.split()) == 1:\n",
    "        return loc\n",
    "    elif len(loc.split()) > 2:\n",
    "        return loc.split()[1]\n",
    "    else:\n",
    "        return loc\n",
    "\n",
    "#finding street name   \n",
    "df['STREET NAME'] = df['LOCATION DESCRIPTION'].map(street_name)\n",
    "df['STREET NAME'].value_counts()[:10]"
   ]
  },
  {
   "cell_type": "markdown",
   "metadata": {},
   "source": [
    "### Q6 [4 points] Plot the frequencies of the top-10 cities except LOS ANGELES."
   ]
  },
  {
   "cell_type": "code",
   "execution_count": 44,
   "metadata": {},
   "outputs": [
    {
     "data": {
      "text/plain": [
       "<matplotlib.axes._subplots.AxesSubplot at 0x198f443e808>"
      ]
     },
     "execution_count": 44,
     "metadata": {},
     "output_type": "execute_result"
    },
    {
     "data": {
      "image/png": "[encoded data removed]",
      "text/plain": [
       "<Figure size 432x288 with 1 Axes>"
      ]
     },
     "metadata": {
      "needs_background": "light"
     },
     "output_type": "display_data"
    }
   ],
   "source": [
    "df[df['CITY']!=\"LOS ANGELES\"]['CITY'].value_counts()[:10].plot(kind = 'bar')"
   ]
  },
  {
   "cell_type": "markdown",
   "metadata": {},
   "source": [
    "### Q7 [4 points] Among rows where both ZIP CODE and MAILING ZIP CODE are not missing, what fraction of rows have different values for these two columns?"
   ]
  },
  {
   "cell_type": "code",
   "execution_count": 46,
   "metadata": {},
   "outputs": [
    {
     "data": {
      "text/plain": [
       "0.4047385940865479"
      ]
     },
     "execution_count": 46,
     "metadata": {},
     "output_type": "execute_result"
    }
   ],
   "source": [
    "df1 = df[['ZIP CODE', 'MAILING ZIP CODE']].dropna()\n",
    "len(df1[df1['ZIP CODE']==df1['MAILING ZIP CODE']])/len(df1)"
   ]
  },
  {
   "cell_type": "markdown",
   "metadata": {},
   "source": [
    "### Q8 [4 points] How many unique STREET ADDRESSes have a single character as their second word?\n",
    "\n",
    "For example, the second word of \"1155 N LA CIENEGA BLVD\" is \"N\"."
   ]
  },
  {
   "cell_type": "code",
   "execution_count": 204,
   "metadata": {},
   "outputs": [
    {
     "data": {
      "text/plain": [
       "5950"
      ]
     },
     "execution_count": 204,
     "metadata": {},
     "output_type": "execute_result"
    }
   ],
   "source": [
    "street_address = df['STREET ADDRESS'].drop_duplicates().dropna()\n",
    "\n",
    "#to find single letter words\n",
    "def single_word(street_address):\n",
    "    if len(street_address.split()) > 1:\n",
    "        if len(street_address.split()[1]) == 1:\n",
    "            return True\n",
    "    else:\n",
    "        return False\n",
    "\n",
    "mask1 = (street_address.map(single_word) == True)\n",
    "len(street_address[mask1].unique())"
   ]
  },
  {
   "cell_type": "markdown",
   "metadata": {},
   "source": [
    "### Q9 [4 points] Among rows where NAICS is not missing, what fraction also have PRIMARY NAICS DESCRIPTION also not missing?"
   ]
  },
  {
   "cell_type": "code",
   "execution_count": 77,
   "metadata": {},
   "outputs": [
    {
     "data": {
      "text/plain": [
       "1.0"
      ]
     },
     "execution_count": 77,
     "metadata": {},
     "output_type": "execute_result"
    }
   ],
   "source": [
    "mask1 = df['NAICS'].notnull()\n",
    "mask2 = df['PRIMARY NAICS DESCRIPTION'].notnull()\n",
    "len(df[mask1 & mask2])/len(df[mask1])"
   ]
  },
  {
   "cell_type": "markdown",
   "metadata": {},
   "source": [
    "### Q10 [4 points] Find all unique BUSINESS NAMEs where the CITY in which the business is located is part of the BUSINESS NAME.\n",
    "\n",
    "For example, \"LOS ANGELES VALLEY CAREGIVERS, INC.\" in the city of LOS ANGELES."
   ]
  },
  {
   "cell_type": "code",
   "execution_count": 87,
   "metadata": {},
   "outputs": [
    {
     "data": {
      "text/plain": [
       "array(['LOS ANGELES DRAMA CLUB', 'RESEDA PHARMACY INC',\n",
       "       'URBAN PARTNERS LOS ANGELES INC', 'SHERMAN OAKS-A, INC',\n",
       "       'ENCINO STARDUST INVESTMENT COMPANY',\n",
       "       'LOS ANGELES PSYCHOANALYTIC SOCIETY & INSTITUTE',\n",
       "       'EL LEON CIGARS DE LOS ANGELES INC',\n",
       "       'ONTARIO CHAMMBER OF COMMERCE', 'GALLAGHER DESIGNS LOS ANGELES',\n",
       "       'VENICE ALE HOUSE LLC',\n",
       "       'KIDS ENJOY EXERCISE NOW (KEEN) LOS ANGELES LLC',\n",
       "       'COTNER LOS ANGELES LLC', 'LOS ANGELES MOBILE TRUCK WASH LLC',\n",
       "       'CANOGA PARK COMMUNITY CENTER',\n",
       "       'VALLEY VILLAGE MANAGEMENT CORPORATION',\n",
       "       '1533 N MCCADDEN PLACE LOS ANGELES CA 90028 FAMILY TRUST',\n",
       "       'A A OFICINA CENTRAL HISPANA DE LOS ANGELES /C',\n",
       "       'LOS ANGELES KIDNEY CENTER A PMC', 'TARZANA LOCK AND SAFE INC',\n",
       "       'METROPOLIS LOS ANGELES LLC', 'ONTARIO SUPER 8 INC',\n",
       "       'KOLLEL-LOS ANGELES /C', 'CITY OF LOS ANGELES',\n",
       "       'SPAY NEUTER PROJECT OF LOS ANGELES INC',\n",
       "       'LOS ANGELES SECURITY ACADEMY INC',\n",
       "       'NATIONAL COUNCIL OF JEWISH WOMEN INC/LOS ANGELES SECTION',\n",
       "       'M & B CARPET SUPPLIERS OF TEMPLE CITY INC',\n",
       "       'SUNLAND INVESTMENT GROUP INC', 'LOS ANGELES HOMEOWNERS AID INC',\n",
       "       'LOS ANGELES CITY FIRE DEPARTMENT',\n",
       "       'ENCINO PROPERTY BUSINESS IMPROVEMENT DISTRICT',\n",
       "       'LOS ANGELES SLEEP INSTITUTE, INC.',\n",
       "       'THE SHERMAN OAKS NURSERY SCHOOL /C', 'LOS ANGELES LDA SERVICES',\n",
       "       'MA DE LOS ANGELES MARTINEZ',\n",
       "       'COMMERCE HOSE/INDUSTRIAL PRODUCTS INC',\n",
       "       'FIRST MOTOR GROUP OF ENCINO LLC',\n",
       "       'PREMIER SURGICAL PAVILION OF LOS ANGELES CORP.',\n",
       "       'CASA DE CARLOS-CHATSWORTH INC',\n",
       "       'METRO VILLAS PHASE 2 LOS ANGELES LP', 'ENCINO CARE PHARMACY INC',\n",
       "       'ANAHEIM STONE WORKS, INC.', 'LOS ANGELES VOLLEYBALL CLUB',\n",
       "       'WILMINGTON RETAIL CENTER LLC', 'LOS ANGELES PARTNERSHIP INC',\n",
       "       'LOS ANGELES OPERA CO /C', 'VENICE HILLS, INC.',\n",
       "       'BILL JOHN LOS ANGELES, LLC',\n",
       "       'LOS ANGELES HEMATOLOGY / ONCOLOGY MEDICAL GROUP',\n",
       "       'SENIOR CITIZENS HOUSING DEVELOPMENT CORPORATION OF LOS ANGELES',\n",
       "       'RADIOLOGY DISC OF ENCINO INC', 'VETCOR OF LOS ANGELES LP',\n",
       "       'VENICEKUSH BRAND LLC', 'VALLEY VILLAGE FRIENDLY FAMILY',\n",
       "       'RAINTREE PLAZA AT SHERMAN OAKS LLC',\n",
       "       'BILL JOHNSON LOS ANGELES LLC',\n",
       "       'WOODLAND HILLS GROCERY MARKET, INC',\n",
       "       'LOS ANGELES MOVEMENT STRENGTH LLC', 'MISSION HILLS PARTNERS LLC',\n",
       "       'APOLLO WEST THEATRE AND DRAMA WORKSHOP CARSON PLAYERS',\n",
       "       'ACUCENTER OF LOS ANGELES, INC',\n",
       "       'SUSTAINABLE ECONOMIC ENTERPRISES OF LOS ANGELES /C',\n",
       "       'TARZANA BAKERY & CAFE INC', 'BLAME LOS ANGELES, LLC',\n",
       "       'BREA/ORANGE COUNTY PLUMBING,HEATING & A.C., INC.',\n",
       "       'LOS ANGELES ALUMNI CHAPTER DELTA SIGMA THETA INC',\n",
       "       'AUTO RECYCLING OF WILMINGTON INC',\n",
       "       'MTD PROPERTIES LOS ANGELES INC',\n",
       "       'CONCERNED CITIZENS OF SOUTH CENTRAL LOS ANGELES/C',\n",
       "       'SHERMAN OAKS CHAMBER FOUNDATION', 'LOS ANGELES CITY BD OF EDUCN',\n",
       "       'BURBANK GLENOAKS LLC', 'ORANGE COAST PETROLEUM EQUIPMENT INC',\n",
       "       'NORTH VENICE BOARDWALK LLC',\n",
       "       'MT CHAPEL BAPTIST CHURCH OF LOS ANGELES /C',\n",
       "       'THE PUBLIC HEALTH FOUNDATION OF LOS ANGELES COUNTY INC',\n",
       "       'YIDDISHKAYT LOS ANGELES', 'TARZANA SENIOR LIVING, INC.',\n",
       "       'LOS ANGELES CARES MENTORING MOVEMENT',\n",
       "       'AA OFICINA CENTRAL HISPANA DE LOS ANGELES',\n",
       "       'LOS ANGELES SECOND BAPTIST HOMES INC',\n",
       "       'PLANNED PARENTHOOD LOS ANGELES',\n",
       "       'PLAYA VISTA PARKS AND LANDSCAPE CORPORATION',\n",
       "       'GARDENA TERRACE VENTURES LLC',\n",
       "       'SAN BERNARDINO REGIONAL EMERGENCY TRAINING CENTER JOINT POWERS OF AUTHORITY',\n",
       "       'VAN NUYS PLATING INC', 'LOS ANGELES HOME OWNERS AID INC',\n",
       "       'LOS ANGELES REGIONAL FAMILY PREGNANCY PREVENTION',\n",
       "       '1021 1132 N WILMINGTON AVENUE LLC', 'ZELMAN CHATSWORTH LP',\n",
       "       'ROWI ENCINO INC', 'LOS ANGELES UNITED INVESTMENT CO/C',\n",
       "       'LOS ANGELES ORTHOPAEDIC CENTER MED GROUP',\n",
       "       'NORTHRIDGE PROPERTY LLC',\n",
       "       'ARCHDIOCESE OF LOS ANGELES EDUCATION/WELFARE CORP',\n",
       "       'URBAN NEIGHBORHOOD LOS ANGELES MB, LLC',\n",
       "       'SMOKERS ZONE LOS ANGELES',\n",
       "       'CATHOLIC CHARITIES OF LOS ANGELES INC',\n",
       "       'LOS ANGELES POLICE DEPARTMENT VENICE LAW ENFORCEMENT EXPLORER POST 1400',\n",
       "       'LOS ANGELES INFANT TODDLER ACADEMY /C',\n",
       "       'JUST FIT LOS ANGELES LLC', '23668 MALIBU COLONY RD. LLC',\n",
       "       'LOS ANGELES URBAN LEAGUE',\n",
       "       'LOS ANGELES ORTHOPAEDIC MEDICAL CENTER/C',\n",
       "       'WHITTIER FIGHT SHOP INC', 'LOS ANGELES MOTOR CARS INC',\n",
       "       'PQ ENCINO BAKERY INC', 'GARDENA HD ASSOCIATES',\n",
       "       'PACOIMA CENTER LLC', 'BURLINGTON SAFETY LABORATORY INC',\n",
       "       'SYLMAR INDEPENDENT BASEBALL LEAGUE, INC',\n",
       "       'BIOFEEDBACK INSTITUTE OF LOS ANGELES /C'], dtype=object)"
      ]
     },
     "execution_count": 87,
     "metadata": {},
     "output_type": "execute_result"
    }
   ],
   "source": [
    "df[df[['BUSINESS NAME', 'CITY']].apply(lambda x: str(x[1]) in str(x[0]), axis = 1)]['BUSINESS NAME'].unique()"
   ]
  },
  {
   "cell_type": "markdown",
   "metadata": {},
   "source": [
    "### Q11 [4 points] Print out all cities with 5 or more unique council districts associated with them."
   ]
  },
  {
   "cell_type": "code",
   "execution_count": 92,
   "metadata": {},
   "outputs": [
    {
     "data": {
      "text/plain": [
       "CITY\n",
       "LOS ANGELES        13\n",
       "VAN NUYS            6\n",
       "SHERMAN OAKS        6\n",
       "NORTHRIDGE          6\n",
       "NORTH HOLLYWOOD     5\n",
       "ENCINO              5\n",
       "Name: COUNCIL DISTRICT, dtype: int64"
      ]
     },
     "execution_count": 92,
     "metadata": {},
     "output_type": "execute_result"
    }
   ],
   "source": [
    "city_council_count = df[['CITY', 'COUNCIL DISTRICT']].groupby(['CITY'])['COUNCIL DISTRICT'].nunique()\n",
    "city_council_count[city_council_count>=5].sort_values(ascending = False)"
   ]
  },
  {
   "cell_type": "markdown",
   "metadata": {},
   "source": [
    "### Q12 [6 points] Multiple NAICS\n",
    "Find all instances where there are several different NAICS for the same PRIMARY NAICS DESCRIPTION. Print out these NAICS and PRIMARY NAICS DESCRIPTIONs."
   ]
  },
  {
   "cell_type": "code",
   "execution_count": 101,
   "metadata": {},
   "outputs": [
    {
     "data": {
      "text/html": [
       "<div>\n",
       "<style scoped>\n",
       "    .dataframe tbody tr th:only-of-type {\n",
       "        vertical-align: middle;\n",
       "    }\n",
       "\n",
       "    .dataframe tbody tr th {\n",
       "        vertical-align: top;\n",
       "    }\n",
       "\n",
       "    .dataframe thead th {\n",
       "        text-align: right;\n",
       "    }\n",
       "</style>\n",
       "<table border=\"1\" class=\"dataframe\">\n",
       "  <thead>\n",
       "    <tr style=\"text-align: right;\">\n",
       "      <th></th>\n",
       "      <th>NAICS</th>\n",
       "      <th>PRIMARY NAICS DESCRIPTION</th>\n",
       "    </tr>\n",
       "  </thead>\n",
       "  <tbody>\n",
       "    <tr>\n",
       "      <th>696</th>\n",
       "      <td>445290.0</td>\n",
       "      <td>Home furnishings stores</td>\n",
       "    </tr>\n",
       "    <tr>\n",
       "      <th>919</th>\n",
       "      <td>442200.0</td>\n",
       "      <td>Home furnishings stores</td>\n",
       "    </tr>\n",
       "  </tbody>\n",
       "</table>\n",
       "</div>"
      ],
      "text/plain": [
       "        NAICS PRIMARY NAICS DESCRIPTION\n",
       "696  445290.0   Home furnishings stores\n",
       "919  442200.0   Home furnishings stores"
      ]
     },
     "execution_count": 101,
     "metadata": {},
     "output_type": "execute_result"
    }
   ],
   "source": [
    "naics = df[['NAICS','PRIMARY NAICS DESCRIPTION']].groupby(['PRIMARY NAICS DESCRIPTION'])['NAICS'].nunique()\n",
    "df[['NAICS','PRIMARY NAICS DESCRIPTION']][df['PRIMARY NAICS DESCRIPTION'].isin(naics[naics>1].index)].drop_duplicates()"
   ]
  },
  {
   "cell_type": "markdown",
   "metadata": {},
   "source": [
    "### Q13 [6 points] Plot the frequency of street last-names.\n",
    "\n",
    "The street last-name is defined as follows:\n",
    "* Look at a STREET ADDRESS (e.g., \"5670 WILSHIRE BLVD #B 1\")\n",
    "* Read its words backwards (here:, \"1\", \"#B\", \"BLVD\", \"WILSHIRE\", \"5670\")\n",
    "* Pick the first word that doesn't have any digits or \"#\" in it (here: \"BLVD\")\n",
    "\n",
    "Calculate the number of rows associated with each unique last-name. Plot the frequencies of the top 10 last-names."
   ]
  },
  {
   "cell_type": "code",
   "execution_count": 218,
   "metadata": {},
   "outputs": [],
   "source": [
    "def read_back(address):\n",
    "    if len(address.split())>=1:\n",
    "        backlist = []\n",
    "        list = address.split()\n",
    "        for i in range(len(list)):\n",
    "            backlist.append(list[-i])\n",
    "        backname = ' '.join(backlist)\n",
    "        last_word = re.findall('\\w+[^#\\s]', backname)\n",
    "        return last_word"
   ]
  },
  {
   "cell_type": "code",
   "execution_count": 219,
   "metadata": {},
   "outputs": [
    {
     "data": {
      "text/plain": [
       "['5670', 'BLVD', 'WILSHIRE']"
      ]
     },
     "execution_count": 219,
     "metadata": {},
     "output_type": "execute_result"
    }
   ],
   "source": [
    "address = '5670 WILSHIRE BLVD #B 1'\n",
    "read_back(address)"
   ]
  },
  {
   "cell_type": "markdown",
   "metadata": {},
   "source": [
    "### Q14 [6 points] Streets with the widest range of street numbers\n",
    "\n",
    "* Drop all STREET ADDRESSES where the first word is not all numbers. For example, keep the row where the STREET ADDRESS is \"15136 STAGG STREET\" but drop the row with \"POST OFFICE BOX 123\".\n",
    "* Among these STREET ADDRESSES, call the first word STREET NUMBER and the rest of the address STREET BASE.\n",
    "    * For example, a STREET ADDRESS of \"15136 STAGG STREET\" has a STREET NUMBER of 15136 and a STREET BASE of \"STAGG STREET\"\n",
    "* For each STREET BASE, figure out the range of STREET NUMBERs.\n",
    "    * For example, if you see \"15126 STAGG STREET\", \"15100 STAGG STREET\" and \"15200 STAGG STREET\", then the range for \"STAGG STREET\" is 15200-15100=100.\n",
    "* Print out the top 5 STREET BASEs with the largest range of STREET NUMBERs."
   ]
  },
  {
   "cell_type": "code",
   "execution_count": null,
   "metadata": {},
   "outputs": [],
   "source": [
    "##"
   ]
  },
  {
   "cell_type": "markdown",
   "metadata": {},
   "source": [
    "### Q15 [6 points] Among MAILING CITIES that appear at least 50 times, what is the fraction of rows for which the MAILING ADDRESS contains the string \"POST OFFICE BOX\"?"
   ]
  },
  {
   "cell_type": "code",
   "execution_count": 123,
   "metadata": {},
   "outputs": [
    {
     "data": {
      "text/plain": [
       "0.07069261591299371"
      ]
     },
     "execution_count": 123,
     "metadata": {},
     "output_type": "execute_result"
    }
   ],
   "source": [
    "city_50 = df['MAILING CITY'].value_counts()\n",
    "city_50 = city_50[city_50>=50]\n",
    "mask1 = df['MAILING CITY'].isin(city_50.index)\n",
    "mask2 = (df['MAILING ADDRESS'].str.contains('POST OFFICE BOX') == True)\n",
    "len(df[mask1&mask2])/len(df[mask1])"
   ]
  },
  {
   "cell_type": "markdown",
   "metadata": {},
   "source": [
    "### Q16 [6 points] Business chains\n",
    "\n",
    "* Find all BUSINESS NAMEs that are associated with 6 or more unique non-missing LOCATIONs.\n",
    "* For each such BUSINESS NAME, print out a DataFrame with the index being the BUSINESS NAME and two columns:\n",
    "    * the number of unique cities in which the business operates, and\n",
    "    * the CITY with the maximum number of locations for this business (you need not consider unique locations here)."
   ]
  },
  {
   "cell_type": "code",
   "execution_count": 155,
   "metadata": {},
   "outputs": [
    {
     "data": {
      "text/html": [
       "<div>\n",
       "<style scoped>\n",
       "    .dataframe tbody tr th:only-of-type {\n",
       "        vertical-align: middle;\n",
       "    }\n",
       "\n",
       "    .dataframe tbody tr th {\n",
       "        vertical-align: top;\n",
       "    }\n",
       "\n",
       "    .dataframe thead th {\n",
       "        text-align: right;\n",
       "    }\n",
       "</style>\n",
       "<table border=\"1\" class=\"dataframe\">\n",
       "  <thead>\n",
       "    <tr style=\"text-align: right;\">\n",
       "      <th></th>\n",
       "      <th>city with max locations</th>\n",
       "      <th>count of unique cities</th>\n",
       "    </tr>\n",
       "    <tr>\n",
       "      <th>BUSINESS NAME</th>\n",
       "      <th></th>\n",
       "      <th></th>\n",
       "    </tr>\n",
       "  </thead>\n",
       "  <tbody>\n",
       "    <tr>\n",
       "      <th>ABM INDUSTRY GROUPS, LLC</th>\n",
       "      <td>LOS ANGELES</td>\n",
       "      <td>3</td>\n",
       "    </tr>\n",
       "    <tr>\n",
       "      <th>COINSTAR ASSET HOLDINGS, LLC</th>\n",
       "      <td>LOS ANGELES</td>\n",
       "      <td>7</td>\n",
       "    </tr>\n",
       "    <tr>\n",
       "      <th>LAZ KARP ASSOCIATES LLC</th>\n",
       "      <td>LOS ANGELES</td>\n",
       "      <td>2</td>\n",
       "    </tr>\n",
       "    <tr>\n",
       "      <th>REDBOX AUTOMATED RETAIL LLC</th>\n",
       "      <td>LOS ANGELES</td>\n",
       "      <td>4</td>\n",
       "    </tr>\n",
       "    <tr>\n",
       "      <th>STARBUCKS CORPORATION</th>\n",
       "      <td>LOS ANGELES</td>\n",
       "      <td>6</td>\n",
       "    </tr>\n",
       "    <tr>\n",
       "      <th>T MOBILE WEST LLC</th>\n",
       "      <td>LOS ANGELES</td>\n",
       "      <td>6</td>\n",
       "    </tr>\n",
       "  </tbody>\n",
       "</table>\n",
       "</div>"
      ],
      "text/plain": [
       "                             city with max locations  count of unique cities\n",
       "BUSINESS NAME                                                               \n",
       "ABM INDUSTRY GROUPS, LLC                 LOS ANGELES                       3\n",
       "COINSTAR ASSET HOLDINGS, LLC             LOS ANGELES                       7\n",
       "LAZ KARP ASSOCIATES LLC                  LOS ANGELES                       2\n",
       "REDBOX AUTOMATED RETAIL LLC              LOS ANGELES                       4\n",
       "STARBUCKS CORPORATION                    LOS ANGELES                       6\n",
       "T MOBILE WEST LLC                        LOS ANGELES                       6"
      ]
     },
     "execution_count": 155,
     "metadata": {},
     "output_type": "execute_result"
    }
   ],
   "source": [
    "business_6 = df[['BUSINESS NAME', 'LOCATION']].dropna().groupby(['BUSINESS NAME'])['LOCATION'].nunique()\n",
    "business_6 = business_6[business_6>=6]\n",
    "df3 = df[df['BUSINESS NAME'].isin(business_6.index)]\n",
    "business_city = pd.crosstab(df3['CITY'], df3['BUSINESS NAME'])\n",
    "business_maxcity = DataFrame(business_city.idxmax())\n",
    "business_maxcity.columns = ['city with max locations']\n",
    "business_maxcity['count of unique cities']= business_city.astype(bool).sum(axis=0)\n",
    "business_maxcity"
   ]
  },
  {
   "cell_type": "markdown",
   "metadata": {},
   "source": [
    "### Q17 [6 points] Visualize Ventura\n",
    "\n",
    "* Find all rows where the STREET ADDRESS contains \"VENTURA BLVD\".\n",
    "* Look at the LOCATION column for these rows. These are in the form (latitude, longitude)\n",
    "* Drop any rows where the LOCATION is missing or equals \"(0.0, 0.0)\"\n",
    "* Extract the latitudes and longitudes. \n",
    "* Show a scatter plot of locations with latitude on the y-axis and longitude on the x-axis. These give a visualization of roads named Ventura Blvd."
   ]
  },
  {
   "cell_type": "code",
   "execution_count": 167,
   "metadata": {},
   "outputs": [
    {
     "data": {
      "text/plain": [
       "Text(0, 0.5, 'Latitude')"
      ]
     },
     "execution_count": 167,
     "metadata": {},
     "output_type": "execute_result"
    },
    {
     "data": {
      "image/png": "[encoded data removed]",
      "text/plain": [
       "<Figure size 432x288 with 1 Axes>"
      ]
     },
     "metadata": {
      "needs_background": "light"
     },
     "output_type": "display_data"
    }
   ],
   "source": [
    "mask1 = (df['STREET ADDRESS'].str.contains('VENTURA BLVD') == True)\n",
    "mask2 = (df['LOCATION'] != \"(0.0, 0.0)\")\n",
    "ventura_blvd = df[mask1&mask2][['STREET ADDRESS', 'LOCATION']].dropna()\n",
    "ventura_blvd['LAT'] = ventura_blvd['LOCATION'].map(lambda x: float(str(x).rstrip(')').lstrip('(').split(',')[0]))\n",
    "ventura_blvd['LONG'] = ventura_blvd['LOCATION'].map(lambda x: float(str(x).rstrip(')').lstrip('(').split(',')[1]))\n",
    "scatter(ventura_blvd['LONG'], ventura_blvd['LAT'])\n",
    "xlabel('Longitude')\n",
    "ylabel('Latitude')"
   ]
  },
  {
   "cell_type": "markdown",
   "metadata": {},
   "source": [
    "### Q18 [4 points] Plot the total number of rows for each month from 01/01/2000 to 01/01/2021."
   ]
  },
  {
   "cell_type": "code",
   "execution_count": 188,
   "metadata": {},
   "outputs": [
    {
     "data": {
      "text/plain": [
       "<matplotlib.axes._subplots.AxesSubplot at 0x198f6d03a48>"
      ]
     },
     "execution_count": 188,
     "metadata": {},
     "output_type": "execute_result"
    },
    {
     "data": {
      "image/png": "[encoded data removed]",
      "text/plain": [
       "<Figure size 432x288 with 1 Axes>"
      ]
     },
     "metadata": {
      "needs_background": "light"
     },
     "output_type": "display_data"
    }
   ],
   "source": [
    "from datetime import datetime\n",
    "import copy\n",
    "df['LOCATION START DATE'] = pd.to_datetime(df['LOCATION START DATE'])\n",
    "df4 = copy.deepcopy(df[df['LOCATION START DATE'].notnull()])\n",
    "df4.set_index('LOCATION START DATE', inplace = True)\n",
    "df4['dummy'] = 1\n",
    "df4['dummy'].resample('M', kind = 'period').sum().plot()"
   ]
  },
  {
   "cell_type": "markdown",
   "metadata": {},
   "source": [
    "---\n",
    "\n",
    "### Autism Classification\n",
    "\n",
    "We will consider a dataset where each row is an adult who may be autistic (Class/ASD is YES). We will only need the columns named A1_Score to A10_Score. These are scores achieved on answers to different questions measuring mental acuity. A score of 1 is a correct answer, while 0 is a wrong answer."
   ]
  },
  {
   "cell_type": "code",
   "execution_count": 220,
   "metadata": {},
   "outputs": [
    {
     "data": {
      "text/plain": [
       "A1_Score                         1\n",
       "A2_Score                         1\n",
       "A3_Score                         1\n",
       "A4_Score                         1\n",
       "A5_Score                         0\n",
       "A6_Score                         0\n",
       "A7_Score                         1\n",
       "A8_Score                         1\n",
       "A9_Score                         0\n",
       "A10_Score                        0\n",
       "age                             26\n",
       "gender                           f\n",
       "ethnicity           White-European\n",
       "jaundice                        no\n",
       "austim                          no\n",
       "country_of_res     'United States'\n",
       "used_app_before                 no\n",
       "result                           6\n",
       "age_desc             '18 and more'\n",
       "relation                      Self\n",
       "Class/ASD                       NO\n",
       "Name: 0, dtype: object"
      ]
     },
     "execution_count": 220,
     "metadata": {},
     "output_type": "execute_result"
    }
   ],
   "source": [
    "df = pd.read_csv('Autism-Adult-Data.arff', skiprows=25, header=None, \\\n",
    "                 names=['A1_Score', 'A2_Score', 'A3_Score', 'A4_Score', 'A5_Score', 'A6_Score',\n",
    "                        'A7_Score', 'A8_Score', 'A9_Score', 'A10_Score', 'age',\n",
    "                        'gender', 'ethnicity', 'jaundice', 'austim', 'country_of_res',\n",
    "                        'used_app_before', 'result', 'age_desc', 'relation', 'Class/ASD'])\n",
    "df.iloc[0]"
   ]
  },
  {
   "cell_type": "markdown",
   "metadata": {},
   "source": [
    "### Q19 [3 points] Create a target column which is 1 if Class/ASD is YES, and 0 otherwise.\n",
    "\n",
    "Print out the baseline accuracy on this dataset."
   ]
  },
  {
   "cell_type": "code",
   "execution_count": 169,
   "metadata": {},
   "outputs": [
    {
     "data": {
      "text/plain": [
       "0.7315340909090909"
      ]
     },
     "execution_count": 169,
     "metadata": {},
     "output_type": "execute_result"
    }
   ],
   "source": [
    "len(df[df['Class/ASD']==\"NO\"])/len(df)"
   ]
  },
  {
   "cell_type": "markdown",
   "metadata": {},
   "source": [
    "### Q20 [6 points] Minimum number of questions\n",
    "\n",
    "Calculate the average cross-validation accuracy for predicting the target using 10 different classifiers. Each classifier is a Nearest Neighbors classifier with K=15 nearest neighbors (all other settings can be set to their defaults), but with different features.\n",
    "* Classifier 1 uses A1_Score\n",
    "* Classifier 2 uses A1_Score and A2_Score\n",
    "* Classifier 3 uses A1_Score, A2_Score, and A3_Score\n",
    "* ...\n",
    "* Classifier 10 uses A1_Score, A2_Score, ..., A10_Score\n",
    "\n",
    "None of the classifiers use any of the other available columns such as age/gender/etc.\n",
    "\n",
    "Find the maximum cross-validation accuracy among these 10 classifiers.\n",
    "Then find out which classifiers achieve a cross-validation accuracy that is at least 95% of this maximum.\n",
    "Among these, print out which classifier uses the fewest features."
   ]
  },
  {
   "cell_type": "code",
   "execution_count": null,
   "metadata": {},
   "outputs": [],
   "source": [
    "for i in range(1,11):\n",
    "    df1 = df[,:i]\n",
    "    Y,X =dmatrices('Class/ASD~0+sepal_length+sepal_width', iris2, return_type = 'dataframe')\n",
    "    y = Y['target'].values\n",
    "    from sklearn import model_selection\n",
    "    kfold = model_selection.StratifiedKFold(n_splits = 3).split(X, y)\n",
    "    for max_depth in range(1,11):\n",
    "        model3 = tree.DecisionTreeClassifier(criterion = 'entropy', max_depth = max_depth)\n",
    "        scores = cross_val_score(model3, X_train, y_train, cv = kfold)\n",
    "        print('score {} max depth {} scoreavg {}'.format(scores, max_depth, scores.mean()))\n",
    "        \n",
    "        \n",
    "        ##would have calculated knn best score for each by cv\n",
    "        "
   ]
  }
 ],
 "metadata": {
  "kernelspec": {
   "display_name": "Python 3",
   "language": "python",
   "name": "python3"
  },
  "language_info": {
   "codemirror_mode": {
    "name": "ipython",
    "version": 3
   },
   "file_extension": ".py",
   "mimetype": "text/x-python",
   "name": "python",
   "nbconvert_exporter": "python",
   "pygments_lexer": "ipython3",
   "version": "3.7.6"
  }
 },
 "nbformat": 4,
 "nbformat_minor": 5
}
