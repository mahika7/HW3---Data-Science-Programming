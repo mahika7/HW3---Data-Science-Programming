{
 "cells": [
  {
   "cell_type": "code",
   "execution_count": 4,
   "metadata": {},
   "outputs": [
    {
     "name": "stdout",
     "output_type": "stream",
     "text": [
      "Populating the interactive namespace from numpy and matplotlib\n"
     ]
    }
   ],
   "source": [
    "import math\n",
    "import re\n",
    "from pandas import Series, DataFrame\n",
    "import pandas as pd\n",
    "%pylab inline"
   ]
  },
  {
   "cell_type": "code",
   "execution_count": 25,
   "metadata": {},
   "outputs": [
    {
     "data": {
      "text/html": [
       "<div>\n",
       "<style scoped>\n",
       "    .dataframe tbody tr th:only-of-type {\n",
       "        vertical-align: middle;\n",
       "    }\n",
       "\n",
       "    .dataframe tbody tr th {\n",
       "        vertical-align: top;\n",
       "    }\n",
       "\n",
       "    .dataframe thead th {\n",
       "        text-align: right;\n",
       "    }\n",
       "</style>\n",
       "<table border=\"1\" class=\"dataframe\">\n",
       "  <thead>\n",
       "    <tr style=\"text-align: right;\">\n",
       "      <th></th>\n",
       "      <th>Turk</th>\n",
       "      <th>URL</th>\n",
       "      <th>Category</th>\n",
       "    </tr>\n",
       "  </thead>\n",
       "  <tbody>\n",
       "    <tr>\n",
       "      <th>0</th>\n",
       "      <td>A1OT3A29R9N1DG</td>\n",
       "      <td>http://000.cc</td>\n",
       "      <td>P</td>\n",
       "    </tr>\n",
       "    <tr>\n",
       "      <th>1</th>\n",
       "      <td>A1PXXEOGQ76RNJ</td>\n",
       "      <td>http://000.cc</td>\n",
       "      <td>G</td>\n",
       "    </tr>\n",
       "    <tr>\n",
       "      <th>2</th>\n",
       "      <td>A1PXXEOGQ76RNJ</td>\n",
       "      <td>http://000.cc</td>\n",
       "      <td>G</td>\n",
       "    </tr>\n",
       "    <tr>\n",
       "      <th>3</th>\n",
       "      <td>A21US576U8SCO4</td>\n",
       "      <td>http://000.cc</td>\n",
       "      <td>G</td>\n",
       "    </tr>\n",
       "    <tr>\n",
       "      <th>4</th>\n",
       "      <td>A2LGX47NN7C5D3</td>\n",
       "      <td>http://000.cc</td>\n",
       "      <td>G</td>\n",
       "    </tr>\n",
       "  </tbody>\n",
       "</table>\n",
       "</div>"
      ],
      "text/plain": [
       "             Turk            URL Category\n",
       "0  A1OT3A29R9N1DG  http://000.cc        P\n",
       "1  A1PXXEOGQ76RNJ  http://000.cc        G\n",
       "2  A1PXXEOGQ76RNJ  http://000.cc        G\n",
       "3  A21US576U8SCO4  http://000.cc        G\n",
       "4  A2LGX47NN7C5D3  http://000.cc        G"
      ]
     },
     "execution_count": 25,
     "metadata": {},
     "output_type": "execute_result"
    }
   ],
   "source": [
    "# Q1\n",
    "#loading the datasets\n",
    "gold = pd.read_csv('gold.txt',sep = \"\\t\", header = None, names = [\"URL\", \"Category\"])\n",
    "labels = pd.read_csv('labels.txt',sep = \"\\t\", header = None, names = [\"Turk\",\"URL\", \"Category\"])\n",
    "gold.head()\n",
    "labels.head()"
   ]
  },
  {
   "cell_type": "code",
   "execution_count": 29,
   "metadata": {},
   "outputs": [],
   "source": [
    "#Q2\n",
    "#splitting labels into two dataframes\n",
    "labels_on_gold = labels[labels['URL'].isin(gold['URL'])]\n",
    "labels_unknown = labels[labels['URL'].isin(gold['URL']) == False]"
   ]
  },
  {
   "cell_type": "code",
   "execution_count": 35,
   "metadata": {},
   "outputs": [
    {
     "name": "stderr",
     "output_type": "stream",
     "text": [
      "C:\\Users\\ashis\\anaconda3\\lib\\site-packages\\ipykernel_launcher.py:8: RuntimeWarning: invalid value encountered in longlong_scalars\n",
      "  \n"
     ]
    },
    {
     "data": {
      "text/html": [
       "<div>\n",
       "<style scoped>\n",
       "    .dataframe tbody tr th:only-of-type {\n",
       "        vertical-align: middle;\n",
       "    }\n",
       "\n",
       "    .dataframe tbody tr th {\n",
       "        vertical-align: top;\n",
       "    }\n",
       "\n",
       "    .dataframe thead th {\n",
       "        text-align: right;\n",
       "    }\n",
       "</style>\n",
       "<table border=\"1\" class=\"dataframe\">\n",
       "  <thead>\n",
       "    <tr style=\"text-align: right;\">\n",
       "      <th></th>\n",
       "      <th>Correct</th>\n",
       "    </tr>\n",
       "    <tr>\n",
       "      <th>Turk</th>\n",
       "      <th></th>\n",
       "    </tr>\n",
       "  </thead>\n",
       "  <tbody>\n",
       "    <tr>\n",
       "      <th>A112DVP1KG4QZU</th>\n",
       "      <td>1.000000</td>\n",
       "    </tr>\n",
       "    <tr>\n",
       "      <th>A1253FXHCZ9CWM</th>\n",
       "      <td>0.517241</td>\n",
       "    </tr>\n",
       "    <tr>\n",
       "      <th>A12CY1Q7XKJJDE</th>\n",
       "      <td>1.000000</td>\n",
       "    </tr>\n",
       "    <tr>\n",
       "      <th>A12RE8G66WTO8B</th>\n",
       "      <td>0.750000</td>\n",
       "    </tr>\n",
       "    <tr>\n",
       "      <th>A12Y1GTGIQDGRA</th>\n",
       "      <td>0.333333</td>\n",
       "    </tr>\n",
       "  </tbody>\n",
       "</table>\n",
       "</div>"
      ],
      "text/plain": [
       "                 Correct\n",
       "Turk                    \n",
       "A112DVP1KG4QZU  1.000000\n",
       "A1253FXHCZ9CWM  0.517241\n",
       "A12CY1Q7XKJJDE  1.000000\n",
       "A12RE8G66WTO8B  0.750000\n",
       "A12Y1GTGIQDGRA  0.333333"
      ]
     },
     "execution_count": 35,
     "metadata": {},
     "output_type": "execute_result"
    }
   ],
   "source": [
    "# Q3 \n",
    "# compute accuracies of turks\n",
    "responsecheck = labels_on_gold.merge(gold, left_on = \"URL\", right_on = \"URL\", suffixes = [\"_response\", \"_correct\"])\n",
    "responsecheck['Correct'] = 0\n",
    "responsecheck.loc[responsecheck['Category_response'] == responsecheck['Category_correct'],'Correct'] = 1\n",
    "\n",
    "def accuracy(x):\n",
    "    return x.sum()/x.count()\n",
    "\n",
    "rater_goodness = responsecheck.groupby('Turk')[['Correct']].agg(accuracy)\n",
    "rater_goodness.head()"
   ]
  },
  {
   "cell_type": "code",
   "execution_count": 38,
   "metadata": {},
   "outputs": [
    {
     "data": {
      "text/html": [
       "<div>\n",
       "<style scoped>\n",
       "    .dataframe tbody tr th:only-of-type {\n",
       "        vertical-align: middle;\n",
       "    }\n",
       "\n",
       "    .dataframe tbody tr th {\n",
       "        vertical-align: top;\n",
       "    }\n",
       "\n",
       "    .dataframe thead th {\n",
       "        text-align: right;\n",
       "    }\n",
       "</style>\n",
       "<table border=\"1\" class=\"dataframe\">\n",
       "  <thead>\n",
       "    <tr style=\"text-align: right;\">\n",
       "      <th></th>\n",
       "      <th>Correct</th>\n",
       "      <th>odds</th>\n",
       "    </tr>\n",
       "    <tr>\n",
       "      <th>Turk</th>\n",
       "      <th></th>\n",
       "      <th></th>\n",
       "    </tr>\n",
       "  </thead>\n",
       "  <tbody>\n",
       "    <tr>\n",
       "      <th>A112DVP1KG4QZU</th>\n",
       "      <td>1.000000</td>\n",
       "      <td>1000.000000</td>\n",
       "    </tr>\n",
       "    <tr>\n",
       "      <th>A1253FXHCZ9CWM</th>\n",
       "      <td>0.517241</td>\n",
       "      <td>1.069214</td>\n",
       "    </tr>\n",
       "    <tr>\n",
       "      <th>A12CY1Q7XKJJDE</th>\n",
       "      <td>1.000000</td>\n",
       "      <td>1000.000000</td>\n",
       "    </tr>\n",
       "    <tr>\n",
       "      <th>A12RE8G66WTO8B</th>\n",
       "      <td>0.750000</td>\n",
       "      <td>2.988048</td>\n",
       "    </tr>\n",
       "    <tr>\n",
       "      <th>A12Y1GTGIQDGRA</th>\n",
       "      <td>0.333333</td>\n",
       "      <td>0.499251</td>\n",
       "    </tr>\n",
       "  </tbody>\n",
       "</table>\n",
       "</div>"
      ],
      "text/plain": [
       "                 Correct         odds\n",
       "Turk                                 \n",
       "A112DVP1KG4QZU  1.000000  1000.000000\n",
       "A1253FXHCZ9CWM  0.517241     1.069214\n",
       "A12CY1Q7XKJJDE  1.000000  1000.000000\n",
       "A12RE8G66WTO8B  0.750000     2.988048\n",
       "A12Y1GTGIQDGRA  0.333333     0.499251"
      ]
     },
     "execution_count": 38,
     "metadata": {},
     "output_type": "execute_result"
    }
   ],
   "source": [
    "# Q4\n",
    "rater_goodness['odds'] = rater_goodness['Correct']/(1.001-rater_goodness['Correct'])\n",
    "rater_goodness.head()"
   ]
  },
  {
   "cell_type": "code",
   "execution_count": 42,
   "metadata": {},
   "outputs": [
    {
     "name": "stderr",
     "output_type": "stream",
     "text": [
      "C:\\Users\\ashis\\anaconda3\\lib\\site-packages\\ipykernel_launcher.py:8: RuntimeWarning: invalid value encountered in longlong_scalars\n",
      "  \n"
     ]
    },
    {
     "data": {
      "text/html": [
       "<div>\n",
       "<style scoped>\n",
       "    .dataframe tbody tr th:only-of-type {\n",
       "        vertical-align: middle;\n",
       "    }\n",
       "\n",
       "    .dataframe tbody tr th {\n",
       "        vertical-align: top;\n",
       "    }\n",
       "\n",
       "    .dataframe thead tr th {\n",
       "        text-align: left;\n",
       "    }\n",
       "\n",
       "    .dataframe thead tr:last-of-type th {\n",
       "        text-align: right;\n",
       "    }\n",
       "</style>\n",
       "<table border=\"1\" class=\"dataframe\">\n",
       "  <thead>\n",
       "    <tr>\n",
       "      <th></th>\n",
       "      <th colspan=\"3\" halign=\"left\">Correct</th>\n",
       "      <th>odds</th>\n",
       "    </tr>\n",
       "    <tr>\n",
       "      <th></th>\n",
       "      <th>sum</th>\n",
       "      <th>count</th>\n",
       "      <th>accuracy</th>\n",
       "      <th></th>\n",
       "    </tr>\n",
       "    <tr>\n",
       "      <th>Turk</th>\n",
       "      <th></th>\n",
       "      <th></th>\n",
       "      <th></th>\n",
       "      <th></th>\n",
       "    </tr>\n",
       "  </thead>\n",
       "  <tbody>\n",
       "    <tr>\n",
       "      <th>A112DVP1KG4QZU</th>\n",
       "      <td>1</td>\n",
       "      <td>1</td>\n",
       "      <td>1.000000</td>\n",
       "      <td>1000.000000</td>\n",
       "    </tr>\n",
       "    <tr>\n",
       "      <th>A1253FXHCZ9CWM</th>\n",
       "      <td>15</td>\n",
       "      <td>29</td>\n",
       "      <td>0.517241</td>\n",
       "      <td>1.069214</td>\n",
       "    </tr>\n",
       "    <tr>\n",
       "      <th>A12CY1Q7XKJJDE</th>\n",
       "      <td>1</td>\n",
       "      <td>1</td>\n",
       "      <td>1.000000</td>\n",
       "      <td>1000.000000</td>\n",
       "    </tr>\n",
       "    <tr>\n",
       "      <th>A12RE8G66WTO8B</th>\n",
       "      <td>15</td>\n",
       "      <td>20</td>\n",
       "      <td>0.750000</td>\n",
       "      <td>2.988048</td>\n",
       "    </tr>\n",
       "    <tr>\n",
       "      <th>A12Y1GTGIQDGRA</th>\n",
       "      <td>1</td>\n",
       "      <td>3</td>\n",
       "      <td>0.333333</td>\n",
       "      <td>0.499251</td>\n",
       "    </tr>\n",
       "    <tr>\n",
       "      <th>...</th>\n",
       "      <td>...</td>\n",
       "      <td>...</td>\n",
       "      <td>...</td>\n",
       "      <td>...</td>\n",
       "    </tr>\n",
       "    <tr>\n",
       "      <th>AYWOBMTEGFVVI</th>\n",
       "      <td>0</td>\n",
       "      <td>1</td>\n",
       "      <td>0.000000</td>\n",
       "      <td>0.000000</td>\n",
       "    </tr>\n",
       "    <tr>\n",
       "      <th>AZ1S5BIG5R6P6</th>\n",
       "      <td>25</td>\n",
       "      <td>35</td>\n",
       "      <td>0.714286</td>\n",
       "      <td>2.491281</td>\n",
       "    </tr>\n",
       "    <tr>\n",
       "      <th>AZSDW7JJL5VA7</th>\n",
       "      <td>68</td>\n",
       "      <td>100</td>\n",
       "      <td>0.680000</td>\n",
       "      <td>2.118380</td>\n",
       "    </tr>\n",
       "    <tr>\n",
       "      <th>AZVB3RZW0OR1H</th>\n",
       "      <td>2</td>\n",
       "      <td>3</td>\n",
       "      <td>0.666667</td>\n",
       "      <td>1.994018</td>\n",
       "    </tr>\n",
       "    <tr>\n",
       "      <th>amurray</th>\n",
       "      <td>14</td>\n",
       "      <td>15</td>\n",
       "      <td>0.933333</td>\n",
       "      <td>13.793103</td>\n",
       "    </tr>\n",
       "  </tbody>\n",
       "</table>\n",
       "<p>269 rows × 4 columns</p>\n",
       "</div>"
      ],
      "text/plain": [
       "               Correct                         odds\n",
       "                   sum count  accuracy             \n",
       "Turk                                               \n",
       "A112DVP1KG4QZU       1     1  1.000000  1000.000000\n",
       "A1253FXHCZ9CWM      15    29  0.517241     1.069214\n",
       "A12CY1Q7XKJJDE       1     1  1.000000  1000.000000\n",
       "A12RE8G66WTO8B      15    20  0.750000     2.988048\n",
       "A12Y1GTGIQDGRA       1     3  0.333333     0.499251\n",
       "...                ...   ...       ...          ...\n",
       "AYWOBMTEGFVVI        0     1  0.000000     0.000000\n",
       "AZ1S5BIG5R6P6       25    35  0.714286     2.491281\n",
       "AZSDW7JJL5VA7       68   100  0.680000     2.118380\n",
       "AZVB3RZW0OR1H        2     3  0.666667     1.994018\n",
       "amurray             14    15  0.933333    13.793103\n",
       "\n",
       "[269 rows x 4 columns]"
      ]
     },
     "execution_count": 42,
     "metadata": {},
     "output_type": "execute_result"
    }
   ],
   "source": [
    "# Q5\n",
    "rater_goodness2 = responsecheck.groupby('Turk')[['Correct']].agg(['sum', 'count',accuracy])\n",
    "rater_goodness2[rater_goodness2['Correct']['count'] >=20]['Correct'].sort_values(by = [\"accuracy\",\"count\"], ascending = False)[:10].index\n",
    "\n",
    "\n",
    "rater_goodness2['odds'] = rater_goodness2['Correct']['accuracy']/(1.001-rater_goodness2['Correct']['accuracy'])\n",
    "rater_goodness2"
   ]
  },
  {
   "cell_type": "code",
   "execution_count": 11,
   "metadata": {},
   "outputs": [
    {
     "data": {
      "text/plain": [
       "[<matplotlib.lines.Line2D at 0x23358314748>]"
      ]
     },
     "execution_count": 11,
     "metadata": {},
     "output_type": "execute_result"
    },
    {
     "data": {
      "image/png": "[encoded data removed]",
      "text/plain": [
       "<Figure size 432x288 with 1 Axes>"
      ]
     },
     "metadata": {
      "needs_background": "light"
     },
     "output_type": "display_data"
    }
   ],
   "source": [
    "# Q6\n",
    "plot(rater_goodness2['Correct']['count'],rater_goodness2['Correct']['accuracy'], marker = \"o\", color = \"blue\", linestyle = \"None\")"
   ]
  },
  {
   "cell_type": "code",
   "execution_count": 12,
   "metadata": {},
   "outputs": [
    {
     "data": {
      "text/plain": [
       "<matplotlib.axes._subplots.AxesSubplot at 0x2335baccec8>"
      ]
     },
     "execution_count": 12,
     "metadata": {},
     "output_type": "execute_result"
    },
    {
     "data": {
      "image/png": "[encoded data removed]",
      "text/plain": [
       "<Figure size 432x288 with 1 Axes>"
      ]
     },
     "metadata": {
      "needs_background": "light"
     },
     "output_type": "display_data"
    }
   ],
   "source": [
    "import statsmodels.api as sm\n",
    "from patsy import dmatrices\n",
    "y, x = dmatrices('accuracy~count', rater_goodness2['Correct'], return_type = \"dataframe\")\n",
    "result = sm.OLS(y,x).fit()\n",
    "slope = result.params['count']\n",
    "intercept = result.params['Intercept']\n",
    "pred = rater_goodness2['Correct']['count']*slope+intercept\n",
    "reg_pred = Series(pred.values, index = rater_goodness2['Correct']['count'])\n",
    "reg_pred.plot(label = \"Regression\", linewidth = 2)"
   ]
  },
  {
   "cell_type": "code",
   "execution_count": 13,
   "metadata": {},
   "outputs": [
    {
     "data": {
      "text/plain": [
       "0.0020234379410812853"
      ]
     },
     "execution_count": 13,
     "metadata": {},
     "output_type": "execute_result"
    }
   ],
   "source": [
    "result.rsquared"
   ]
  },
  {
   "cell_type": "code",
   "execution_count": 14,
   "metadata": {},
   "outputs": [
    {
     "data": {
      "text/plain": [
       "Intercept    1.163240e-78\n",
       "count        4.625183e-01\n",
       "dtype: float64"
      ]
     },
     "execution_count": 14,
     "metadata": {},
     "output_type": "execute_result"
    }
   ],
   "source": [
    "result.pvalues"
   ]
  },
  {
   "cell_type": "code",
   "execution_count": 11,
   "metadata": {},
   "outputs": [],
   "source": [
    "##With linear regression we get a positive slope, but with a very low r-square along with a very high p-value for the intercept. This might be because of the outliers/ high leverage points we see in the spread above. Thus it's highly unlikely that more answers would mean better accuracy. From the spread it gives counter intution that it's more likely if a person is giving selective answers he might have higher accuracy, but if a person rates more his accuracy drops a bit due to some incorrect answers but it still doesn't drop to a very low accuracy rate."
   ]
  },
  {
   "cell_type": "code",
   "execution_count": 15,
   "metadata": {},
   "outputs": [],
   "source": [
    "def product(x):\n",
    "    return x.product()"
   ]
  },
  {
   "cell_type": "code",
   "execution_count": 45,
   "metadata": {},
   "outputs": [
    {
     "data": {
      "text/plain": [
       "9858557.000337768"
      ]
     },
     "execution_count": 45,
     "metadata": {},
     "output_type": "execute_result"
    }
   ],
   "source": [
    "# Q7\n",
    "labels_unknown_odds = labels_unknown.merge(DataFrame(rater_goodness2['Correct']).reset_index(), left_on = \"Turk\", right_on = \"Turk\", suffixes=['_unknown', '_goldset'])\n",
    "labels_unknown_odds = labels_unknown_odds.merge(DataFrame(rater_goodness2['odds']).reset_index(), left_on = \"Turk\", right_on = \"Turk\", suffixes=['_unknown', '_goldset'])\n",
    "y1 = rater_goodness2['Correct']['count'].quantile(0.75)\n",
    "labels_unknown_odds = labels_unknown_odds[labels_unknown_odds['count']>=y1]\n",
    "categoryodds = labels_unknown_odds.groupby(['URL', 'Category'])[['odds']].agg(product).reset_index()\n",
    "categoryodds['odds'].sum()"
   ]
  },
  {
   "cell_type": "code",
   "execution_count": 48,
   "metadata": {},
   "outputs": [
    {
     "data": {
      "text/plain": [
       "9847889.623624476"
      ]
     },
     "execution_count": 48,
     "metadata": {},
     "output_type": "execute_result"
    }
   ],
   "source": [
    "# Q8\n",
    "result_75_new = categoryodds.sort_values(by = 'odds', ascending = False).drop_duplicates(subset = 'URL')\n",
    "result_75_new.rename(columns = {'Category':'Top category', 'odds':'Top odds'}, inplace = True)\n",
    "result_75_new['Top odds'].sum()"
   ]
  },
  {
   "cell_type": "code",
   "execution_count": 52,
   "metadata": {},
   "outputs": [
    {
     "data": {
      "text/html": [
       "<div>\n",
       "<style scoped>\n",
       "    .dataframe tbody tr th:only-of-type {\n",
       "        vertical-align: middle;\n",
       "    }\n",
       "\n",
       "    .dataframe tbody tr th {\n",
       "        vertical-align: top;\n",
       "    }\n",
       "\n",
       "    .dataframe thead th {\n",
       "        text-align: right;\n",
       "    }\n",
       "</style>\n",
       "<table border=\"1\" class=\"dataframe\">\n",
       "  <thead>\n",
       "    <tr style=\"text-align: right;\">\n",
       "      <th></th>\n",
       "      <th>URL</th>\n",
       "      <th>Category</th>\n",
       "      <th>odds</th>\n",
       "    </tr>\n",
       "  </thead>\n",
       "  <tbody>\n",
       "    <tr>\n",
       "      <th>0</th>\n",
       "      <td>http://0-101.net</td>\n",
       "      <td>G</td>\n",
       "      <td>2.155963e+00</td>\n",
       "    </tr>\n",
       "    <tr>\n",
       "      <th>1</th>\n",
       "      <td>http://000.cc</td>\n",
       "      <td>G</td>\n",
       "      <td>2.181050e+03</td>\n",
       "    </tr>\n",
       "    <tr>\n",
       "      <th>2</th>\n",
       "      <td>http://000.cc</td>\n",
       "      <td>P</td>\n",
       "      <td>9.980040e-01</td>\n",
       "    </tr>\n",
       "    <tr>\n",
       "      <th>3</th>\n",
       "      <td>http://0000.jp</td>\n",
       "      <td>G</td>\n",
       "      <td>2.877556e+07</td>\n",
       "    </tr>\n",
       "    <tr>\n",
       "      <th>4</th>\n",
       "      <td>http://000relationships.com</td>\n",
       "      <td>G</td>\n",
       "      <td>0.000000e+00</td>\n",
       "    </tr>\n",
       "    <tr>\n",
       "      <th>...</th>\n",
       "      <td>...</td>\n",
       "      <td>...</td>\n",
       "      <td>...</td>\n",
       "    </tr>\n",
       "    <tr>\n",
       "      <th>17789</th>\n",
       "      <td>http://zz868.com</td>\n",
       "      <td>G</td>\n",
       "      <td>1.209566e+16</td>\n",
       "    </tr>\n",
       "    <tr>\n",
       "      <th>17790</th>\n",
       "      <td>http://zz868.com</td>\n",
       "      <td>P</td>\n",
       "      <td>1.851852e+00</td>\n",
       "    </tr>\n",
       "    <tr>\n",
       "      <th>17791</th>\n",
       "      <td>http://zzx.cc</td>\n",
       "      <td>G</td>\n",
       "      <td>1.330229e+00</td>\n",
       "    </tr>\n",
       "    <tr>\n",
       "      <th>17792</th>\n",
       "      <td>http://zzx.cc</td>\n",
       "      <td>P</td>\n",
       "      <td>9.980040e-01</td>\n",
       "    </tr>\n",
       "    <tr>\n",
       "      <th>17793</th>\n",
       "      <td>http://zzx.cc</td>\n",
       "      <td>X</td>\n",
       "      <td>1.620746e+00</td>\n",
       "    </tr>\n",
       "  </tbody>\n",
       "</table>\n",
       "<p>17794 rows × 3 columns</p>\n",
       "</div>"
      ],
      "text/plain": [
       "                               URL Category          odds\n",
       "0                 http://0-101.net        G  2.155963e+00\n",
       "1                    http://000.cc        G  2.181050e+03\n",
       "2                    http://000.cc        P  9.980040e-01\n",
       "3                   http://0000.jp        G  2.877556e+07\n",
       "4      http://000relationships.com        G  0.000000e+00\n",
       "...                            ...      ...           ...\n",
       "17789             http://zz868.com        G  1.209566e+16\n",
       "17790             http://zz868.com        P  1.851852e+00\n",
       "17791                http://zzx.cc        G  1.330229e+00\n",
       "17792                http://zzx.cc        P  9.980040e-01\n",
       "17793                http://zzx.cc        X  1.620746e+00\n",
       "\n",
       "[17794 rows x 3 columns]"
      ]
     },
     "execution_count": 52,
     "metadata": {},
     "output_type": "execute_result"
    }
   ],
   "source": [
    "# Q9\n",
    "labels_unknown_odds = labels_unknown.merge(DataFrame(rater_goodness2['Correct']).reset_index(), left_on = \"Turk\", right_on = \"Turk\", suffixes=['_unknown', '_goldset'])\n",
    "labels_unknown_odds = labels_unknown_odds.merge(DataFrame(rater_goodness2['odds']).reset_index(), left_on = \"Turk\", right_on = \"Turk\", suffixes=['_unknown', '_goldset'])\n",
    "y2 = rater_goodness2['Correct']['count'].quantile(0.25)\n",
    "labels_unknown_odds = labels_unknown_odds[labels_unknown_odds['count']>=y2]\n",
    "categoryodds2 = labels_unknown_odds.groupby(['URL', 'Category'])[['odds']].agg(product).reset_index()\n",
    "categoryodds2"
   ]
  },
  {
   "cell_type": "code",
   "execution_count": 55,
   "metadata": {},
   "outputs": [
    {
     "data": {
      "text/html": [
       "<div>\n",
       "<style scoped>\n",
       "    .dataframe tbody tr th:only-of-type {\n",
       "        vertical-align: middle;\n",
       "    }\n",
       "\n",
       "    .dataframe tbody tr th {\n",
       "        vertical-align: top;\n",
       "    }\n",
       "\n",
       "    .dataframe thead th {\n",
       "        text-align: right;\n",
       "    }\n",
       "</style>\n",
       "<table border=\"1\" class=\"dataframe\">\n",
       "  <thead>\n",
       "    <tr style=\"text-align: right;\">\n",
       "      <th></th>\n",
       "      <th>URL</th>\n",
       "      <th>Top category</th>\n",
       "      <th>Top odds</th>\n",
       "    </tr>\n",
       "  </thead>\n",
       "  <tbody>\n",
       "    <tr>\n",
       "      <th>6107</th>\n",
       "      <td>http://electriqueboutique.com</td>\n",
       "      <td>P</td>\n",
       "      <td>6.437853e+18</td>\n",
       "    </tr>\n",
       "    <tr>\n",
       "      <th>2850</th>\n",
       "      <td>http://bharatstudent.com</td>\n",
       "      <td>G</td>\n",
       "      <td>1.006383e+17</td>\n",
       "    </tr>\n",
       "    <tr>\n",
       "      <th>5793</th>\n",
       "      <td>http://ds-collection.net</td>\n",
       "      <td>G</td>\n",
       "      <td>2.560230e+16</td>\n",
       "    </tr>\n",
       "    <tr>\n",
       "      <th>16989</th>\n",
       "      <td>http://webpandora.ru</td>\n",
       "      <td>G</td>\n",
       "      <td>2.560230e+16</td>\n",
       "    </tr>\n",
       "    <tr>\n",
       "      <th>1052</th>\n",
       "      <td>http://acmelove.com</td>\n",
       "      <td>P</td>\n",
       "      <td>1.503598e+16</td>\n",
       "    </tr>\n",
       "    <tr>\n",
       "      <th>...</th>\n",
       "      <td>...</td>\n",
       "      <td>...</td>\n",
       "      <td>...</td>\n",
       "    </tr>\n",
       "    <tr>\n",
       "      <th>5270</th>\n",
       "      <td>http://delavo.com</td>\n",
       "      <td>G</td>\n",
       "      <td>0.000000e+00</td>\n",
       "    </tr>\n",
       "    <tr>\n",
       "      <th>5269</th>\n",
       "      <td>http://delaverianmarketing.com</td>\n",
       "      <td>G</td>\n",
       "      <td>0.000000e+00</td>\n",
       "    </tr>\n",
       "    <tr>\n",
       "      <th>5259</th>\n",
       "      <td>http://defence.lk</td>\n",
       "      <td>G</td>\n",
       "      <td>0.000000e+00</td>\n",
       "    </tr>\n",
       "    <tr>\n",
       "      <th>5250</th>\n",
       "      <td>http://deeshaa.org</td>\n",
       "      <td>G</td>\n",
       "      <td>0.000000e+00</td>\n",
       "    </tr>\n",
       "    <tr>\n",
       "      <th>5249</th>\n",
       "      <td>http://deepcozy.com</td>\n",
       "      <td>G</td>\n",
       "      <td>0.000000e+00</td>\n",
       "    </tr>\n",
       "  </tbody>\n",
       "</table>\n",
       "<p>10707 rows × 3 columns</p>\n",
       "</div>"
      ],
      "text/plain": [
       "                                  URL Top category      Top odds\n",
       "6107    http://electriqueboutique.com            P  6.437853e+18\n",
       "2850         http://bharatstudent.com            G  1.006383e+17\n",
       "5793         http://ds-collection.net            G  2.560230e+16\n",
       "16989            http://webpandora.ru            G  2.560230e+16\n",
       "1052              http://acmelove.com            P  1.503598e+16\n",
       "...                               ...          ...           ...\n",
       "5270                http://delavo.com            G  0.000000e+00\n",
       "5269   http://delaverianmarketing.com            G  0.000000e+00\n",
       "5259                http://defence.lk            G  0.000000e+00\n",
       "5250               http://deeshaa.org            G  0.000000e+00\n",
       "5249              http://deepcozy.com            G  0.000000e+00\n",
       "\n",
       "[10707 rows x 3 columns]"
      ]
     },
     "execution_count": 55,
     "metadata": {},
     "output_type": "execute_result"
    }
   ],
   "source": [
    "result_25_new = categoryodds2.sort_values(by = 'odds', ascending = False).drop_duplicates(subset = 'URL')\n",
    "result_25_new.rename(columns = {'Category':'Top category', 'odds':'Top odds'}, inplace = True)\n",
    "result_25_new"
   ]
  },
  {
   "cell_type": "code",
   "execution_count": 56,
   "metadata": {},
   "outputs": [
    {
     "data": {
      "text/html": [
       "<div>\n",
       "<style scoped>\n",
       "    .dataframe tbody tr th:only-of-type {\n",
       "        vertical-align: middle;\n",
       "    }\n",
       "\n",
       "    .dataframe tbody tr th {\n",
       "        vertical-align: top;\n",
       "    }\n",
       "\n",
       "    .dataframe thead th {\n",
       "        text-align: right;\n",
       "    }\n",
       "</style>\n",
       "<table border=\"1\" class=\"dataframe\">\n",
       "  <thead>\n",
       "    <tr style=\"text-align: right;\">\n",
       "      <th>Top category_25</th>\n",
       "      <th>G</th>\n",
       "      <th>P</th>\n",
       "      <th>R</th>\n",
       "      <th>X</th>\n",
       "    </tr>\n",
       "    <tr>\n",
       "      <th>Top category_75</th>\n",
       "      <th></th>\n",
       "      <th></th>\n",
       "      <th></th>\n",
       "      <th></th>\n",
       "    </tr>\n",
       "  </thead>\n",
       "  <tbody>\n",
       "    <tr>\n",
       "      <th>G</th>\n",
       "      <td>7817</td>\n",
       "      <td>223</td>\n",
       "      <td>22</td>\n",
       "      <td>70</td>\n",
       "    </tr>\n",
       "    <tr>\n",
       "      <th>P</th>\n",
       "      <td>886</td>\n",
       "      <td>268</td>\n",
       "      <td>36</td>\n",
       "      <td>12</td>\n",
       "    </tr>\n",
       "    <tr>\n",
       "      <th>R</th>\n",
       "      <td>293</td>\n",
       "      <td>65</td>\n",
       "      <td>120</td>\n",
       "      <td>35</td>\n",
       "    </tr>\n",
       "    <tr>\n",
       "      <th>X</th>\n",
       "      <td>273</td>\n",
       "      <td>26</td>\n",
       "      <td>35</td>\n",
       "      <td>429</td>\n",
       "    </tr>\n",
       "  </tbody>\n",
       "</table>\n",
       "</div>"
      ],
      "text/plain": [
       "Top category_25     G    P    R    X\n",
       "Top category_75                     \n",
       "G                7817  223   22   70\n",
       "P                 886  268   36   12\n",
       "R                 293   65  120   35\n",
       "X                 273   26   35  429"
      ]
     },
     "execution_count": 56,
     "metadata": {},
     "output_type": "execute_result"
    }
   ],
   "source": [
    "final_results2 = result_75_new.merge(result_25_new, left_on = 'URL', right_on = 'URL', suffixes = ['_25', '_75'])\n",
    "final_comparison2 = pd.pivot_table(final_results2, index = 'Top category_75', columns = 'Top category_25', values = 'URL', aggfunc = 'count')\n",
    "final_comparison2"
   ]
  }
 ],
 "metadata": {
  "kernelspec": {
   "display_name": "Python 3",
   "language": "python",
   "name": "python3"
  },
  "language_info": {
   "codemirror_mode": {
    "name": "ipython",
    "version": 3
   },
   "file_extension": ".py",
   "mimetype": "text/x-python",
   "name": "python",
   "nbconvert_exporter": "python",
   "pygments_lexer": "ipython3",
   "version": "3.7.6"
  }
 },
 "nbformat": 4,
 "nbformat_minor": 4
}
