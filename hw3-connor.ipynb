{
 "cells": [
  {
   "cell_type": "code",
   "execution_count": 1,
   "id": "8299a967",
   "metadata": {},
   "outputs": [],
   "source": [
    "from pandas import Series, DataFrame\n",
    "import pandas as pd\n",
    "import math\n",
    "import numpy as np"
   ]
  },
  {
   "cell_type": "markdown",
   "id": "e849ef7c",
   "metadata": {},
   "source": [
    "## Q1 Read in data"
   ]
  },
  {
   "cell_type": "code",
   "execution_count": 2,
   "id": "7235e003",
   "metadata": {},
   "outputs": [],
   "source": [
    "gold = pd.read_csv('gold.txt', header=None, names=['url', 'category'], sep='\\t')"
   ]
  },
  {
   "cell_type": "code",
   "execution_count": 3,
   "id": "6488476d",
   "metadata": {},
   "outputs": [],
   "source": [
    "labels = pd.read_csv('labels.txt', header=None, names=['turk', 'url', 'category'], sep='\\t')"
   ]
  },
  {
   "cell_type": "markdown",
   "id": "62226f56",
   "metadata": {},
   "source": [
    "## Q2 Split into two DataFrames"
   ]
  },
  {
   "cell_type": "code",
   "execution_count": 4,
   "id": "5d8a34ca",
   "metadata": {},
   "outputs": [],
   "source": [
    "#gets a dataframe of only rows from labels whose url is in the gold dataframe\n",
    "mask = (labels['url'].isin(gold['url']))\n",
    "labels_on_gold = labels[mask]"
   ]
  },
  {
   "cell_type": "code",
   "execution_count": 5,
   "id": "50ee4e90",
   "metadata": {},
   "outputs": [],
   "source": [
    "#gets a dataframe of only rows from labels whose url is not in the gold dataframe\n",
    "mask = (~labels['url'].isin(gold['url']))\n",
    "labels_unknown = labels[mask]"
   ]
  },
  {
   "cell_type": "markdown",
   "id": "baebf98e",
   "metadata": {},
   "source": [
    "## Q3 Compute accuracies of turks"
   ]
  },
  {
   "cell_type": "code",
   "execution_count": 6,
   "id": "b0526b21",
   "metadata": {},
   "outputs": [],
   "source": [
    "#dataframe of each turks guess along with the correct answer\n",
    "labels_and_answers = pd.merge(labels_on_gold, gold, on=['url'], suffixes=['_guess', '_answer'])"
   ]
  },
  {
   "cell_type": "code",
   "execution_count": 7,
   "id": "726c84eb",
   "metadata": {},
   "outputs": [],
   "source": [
    "#get first column for rater_goodness dataframe: number of ratings\n",
    "turk_rating_count = DataFrame(labels_and_answers['turk'].value_counts()).reset_index()\n",
    "turk_rating_count.columns = ['turk', 'number_of_ratings']"
   ]
  },
  {
   "cell_type": "code",
   "execution_count": 8,
   "id": "ab469a21",
   "metadata": {},
   "outputs": [],
   "source": [
    "#get second column for rater_goodness dataframe: accuracy\n",
    "\n",
    "#for each turk's guess, see if they got it right\n",
    "labels_and_answers['result'] = labels_and_answers['category_guess'] == labels_and_answers['category_answer']\n",
    "labels_and_answers['result'] = labels_and_answers['result'].astype(int) #converts True/False to int for easy averaging"
   ]
  },
  {
   "cell_type": "code",
   "execution_count": 9,
   "id": "582c0c1a",
   "metadata": {},
   "outputs": [],
   "source": [
    "#averages how many correct guesses a turk made\n",
    "turk_accuracies = DataFrame(labels_and_answers.groupby('turk')['result'].mean()).reset_index()\n",
    "turk_accuracies.columns = ['turk', 'average_correctness']"
   ]
  },
  {
   "cell_type": "code",
   "execution_count": 10,
   "id": "fdf0503b",
   "metadata": {},
   "outputs": [],
   "source": [
    "rater_goodness = pd.merge(turk_rating_count, turk_accuracies, on='turk')"
   ]
  },
  {
   "cell_type": "code",
   "execution_count": 11,
   "id": "d6322038",
   "metadata": {},
   "outputs": [],
   "source": [
    "rater_goodness.set_index('turk', inplace=True)"
   ]
  },
  {
   "cell_type": "markdown",
   "id": "ed2439f5",
   "metadata": {},
   "source": [
    "## Q4 Odds ratios"
   ]
  },
  {
   "cell_type": "code",
   "execution_count": 12,
   "id": "adce5a87",
   "metadata": {},
   "outputs": [],
   "source": [
    "# odds = p / (1.001 - p) and here p = rater_goodness['average_correctness']\n",
    "rater_goodness['odds'] = rater_goodness['average_correctness'] / (1.001 - rater_goodness['average_correctness'])"
   ]
  },
  {
   "cell_type": "markdown",
   "id": "d59bd424",
   "metadata": {},
   "source": [
    "## Q5 Most accurate turks"
   ]
  },
  {
   "cell_type": "code",
   "execution_count": 23,
   "id": "1a17a0ca",
   "metadata": {},
   "outputs": [],
   "source": [
    "#fiter to turks who have rated 20 or more urls\n",
    "mask = (rater_goodness['number_of_ratings'] >= 20)\n",
    "twenty_plus_raters = rater_goodness[mask]"
   ]
  },
  {
   "cell_type": "code",
   "execution_count": 27,
   "id": "4f036c08",
   "metadata": {},
   "outputs": [
    {
     "data": {
      "text/plain": [
       "Index(['A2U0R4X38GUKZE', 'A22C0PJUBFJTI0', 'A23YQUBXZPKILZ', 'ATVALOQVDCMZW',\n",
       "       'A1HIXWH4OXT8S4', 'A3220HG1O83HQ4', 'A20PWAB7G3HDHU', 'A32W20KGQXS0LL',\n",
       "       'AJSJVK40F5HM6', 'A31OCN4MNHUQ6W'],\n",
       "      dtype='object', name='turk')"
      ]
     },
     "execution_count": 27,
     "metadata": {},
     "output_type": "execute_result"
    }
   ],
   "source": [
    "#get top 10 turks (with 20 or more url ratings) by average correctness \n",
    "twenty_plus_raters.sort_values(by='average_correctness', ascending=False)[:10].index"
   ]
  },
  {
   "cell_type": "markdown",
   "id": "7c4f5025",
   "metadata": {},
   "source": [
    "## Q6 Most accurate turks"
   ]
  },
  {
   "cell_type": "code",
   "execution_count": null,
   "id": "0c8f639b",
   "metadata": {},
   "outputs": [],
   "source": []
  }
 ],
 "metadata": {
  "kernelspec": {
   "display_name": "Python 3",
   "language": "python",
   "name": "python3"
  },
  "language_info": {
   "codemirror_mode": {
    "name": "ipython",
    "version": 3
   },
   "file_extension": ".py",
   "mimetype": "text/x-python",
   "name": "python",
   "nbconvert_exporter": "python",
   "pygments_lexer": "ipython3",
   "version": "3.7.4"
  }
 },
 "nbformat": 4,
 "nbformat_minor": 5
}
